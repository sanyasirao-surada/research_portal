{
  "nbformat": 4,
  "nbformat_minor": 0,
  "metadata": {
    "colab": {
      "provenance": [],
      "authorship_tag": "ABX9TyMwnbMJhViFPKXxmNeZcT6i",
      "include_colab_link": true
    },
    "kernelspec": {
      "name": "python3",
      "display_name": "Python 3"
    },
    "language_info": {
      "name": "python"
    }
  },
  "cells": [
    {
      "cell_type": "markdown",
      "metadata": {
        "id": "view-in-github",
        "colab_type": "text"
      },
      "source": [
        "<a href=\"https://colab.research.google.com/github/sanyasirao-surada/research_portal/blob/main/MCA_ML_LAB_16_07_2025.ipynb\" target=\"_parent\"><img src=\"https://colab.research.google.com/assets/colab-badge.svg\" alt=\"Open In Colab\"/></a>"
      ]
    },
    {
      "cell_type": "code",
      "execution_count": null,
      "metadata": {
        "id": "2bUNPhDhUfSJ"
      },
      "outputs": [],
      "source": [
        "# Step 1: Import Required Libraries\n",
        "import pandas as pd\n",
        "import matplotlib.pyplot as plt\n",
        "import seaborn as sns"
      ]
    },
    {
      "cell_type": "code",
      "source": [
        "# Load Titanic dataset from seaborn\n",
        "df = sns.load_dataset('titanic')"
      ],
      "metadata": {
        "id": "wsjRQALx3Tr2"
      },
      "execution_count": null,
      "outputs": []
    },
    {
      "cell_type": "code",
      "source": [
        "# Save to Excel\n",
        "# index=False avoids writing row numbers to Excel.\n",
        "df.to_excel('titanic_dataset.xlsx', index=False)"
      ],
      "metadata": {
        "id": "eCmaumUg56KF"
      },
      "execution_count": null,
      "outputs": []
    },
    {
      "cell_type": "code",
      "source": [
        "# Save as CSV\n",
        "df.to_csv('titanic_dataset.csv', index=False)"
      ],
      "metadata": {
        "id": "tF9ExGr5D4Yh"
      },
      "execution_count": null,
      "outputs": []
    },
    {
      "cell_type": "code",
      "source": [
        "# Download the file to your local system\n",
        "# files.download() will prompt you to download the file in Colab.\n",
        "from google.colab import files\n",
        "files.download('titanic_dataset.xlsx')"
      ],
      "metadata": {
        "colab": {
          "base_uri": "https://localhost:8080/",
          "height": 17
        },
        "id": "u79wZIsiBqg7",
        "outputId": "5261b77a-4baa-48f2-ab88-0d8283dab116"
      },
      "execution_count": null,
      "outputs": [
        {
          "output_type": "display_data",
          "data": {
            "text/plain": [
              "<IPython.core.display.Javascript object>"
            ],
            "application/javascript": [
              "\n",
              "    async function download(id, filename, size) {\n",
              "      if (!google.colab.kernel.accessAllowed) {\n",
              "        return;\n",
              "      }\n",
              "      const div = document.createElement('div');\n",
              "      const label = document.createElement('label');\n",
              "      label.textContent = `Downloading \"${filename}\": `;\n",
              "      div.appendChild(label);\n",
              "      const progress = document.createElement('progress');\n",
              "      progress.max = size;\n",
              "      div.appendChild(progress);\n",
              "      document.body.appendChild(div);\n",
              "\n",
              "      const buffers = [];\n",
              "      let downloaded = 0;\n",
              "\n",
              "      const channel = await google.colab.kernel.comms.open(id);\n",
              "      // Send a message to notify the kernel that we're ready.\n",
              "      channel.send({})\n",
              "\n",
              "      for await (const message of channel.messages) {\n",
              "        // Send a message to notify the kernel that we're ready.\n",
              "        channel.send({})\n",
              "        if (message.buffers) {\n",
              "          for (const buffer of message.buffers) {\n",
              "            buffers.push(buffer);\n",
              "            downloaded += buffer.byteLength;\n",
              "            progress.value = downloaded;\n",
              "          }\n",
              "        }\n",
              "      }\n",
              "      const blob = new Blob(buffers, {type: 'application/binary'});\n",
              "      const a = document.createElement('a');\n",
              "      a.href = window.URL.createObjectURL(blob);\n",
              "      a.download = filename;\n",
              "      div.appendChild(a);\n",
              "      a.click();\n",
              "      div.remove();\n",
              "    }\n",
              "  "
            ]
          },
          "metadata": {}
        },
        {
          "output_type": "display_data",
          "data": {
            "text/plain": [
              "<IPython.core.display.Javascript object>"
            ],
            "application/javascript": [
              "download(\"download_d9fc071a-8ee4-40cc-8f23-8bd5b6f23a8a\", \"titanic_dataset.xlsx\", 55491)"
            ]
          },
          "metadata": {}
        }
      ]
    },
    {
      "cell_type": "code",
      "source": [
        "# Download the file\n",
        "from google.colab import files\n",
        "files.download('titanic_dataset.csv')"
      ],
      "metadata": {
        "colab": {
          "base_uri": "https://localhost:8080/",
          "height": 17
        },
        "id": "mNgkEvumELwi",
        "outputId": "33cc2cbd-51ed-4cff-ff35-e62bf5bae3a8"
      },
      "execution_count": null,
      "outputs": [
        {
          "output_type": "display_data",
          "data": {
            "text/plain": [
              "<IPython.core.display.Javascript object>"
            ],
            "application/javascript": [
              "\n",
              "    async function download(id, filename, size) {\n",
              "      if (!google.colab.kernel.accessAllowed) {\n",
              "        return;\n",
              "      }\n",
              "      const div = document.createElement('div');\n",
              "      const label = document.createElement('label');\n",
              "      label.textContent = `Downloading \"${filename}\": `;\n",
              "      div.appendChild(label);\n",
              "      const progress = document.createElement('progress');\n",
              "      progress.max = size;\n",
              "      div.appendChild(progress);\n",
              "      document.body.appendChild(div);\n",
              "\n",
              "      const buffers = [];\n",
              "      let downloaded = 0;\n",
              "\n",
              "      const channel = await google.colab.kernel.comms.open(id);\n",
              "      // Send a message to notify the kernel that we're ready.\n",
              "      channel.send({})\n",
              "\n",
              "      for await (const message of channel.messages) {\n",
              "        // Send a message to notify the kernel that we're ready.\n",
              "        channel.send({})\n",
              "        if (message.buffers) {\n",
              "          for (const buffer of message.buffers) {\n",
              "            buffers.push(buffer);\n",
              "            downloaded += buffer.byteLength;\n",
              "            progress.value = downloaded;\n",
              "          }\n",
              "        }\n",
              "      }\n",
              "      const blob = new Blob(buffers, {type: 'application/binary'});\n",
              "      const a = document.createElement('a');\n",
              "      a.href = window.URL.createObjectURL(blob);\n",
              "      a.download = filename;\n",
              "      div.appendChild(a);\n",
              "      a.click();\n",
              "      div.remove();\n",
              "    }\n",
              "  "
            ]
          },
          "metadata": {}
        },
        {
          "output_type": "display_data",
          "data": {
            "text/plain": [
              "<IPython.core.display.Javascript object>"
            ],
            "application/javascript": [
              "download(\"download_e57205e2-fc32-4016-b810-6f75043e7b20\", \"titanic_dataset.csv\", 57018)"
            ]
          },
          "metadata": {}
        }
      ]
    },
    {
      "cell_type": "code",
      "source": [
        "# This will open a file upload box where you can choose your .csv or .xlsx file from your computer.\n",
        "from google.colab import files\n",
        "uploaded = files.upload()"
      ],
      "metadata": {
        "colab": {
          "base_uri": "https://localhost:8080/",
          "height": 91
        },
        "id": "4i9ItQfVFViM",
        "outputId": "4c011559-5f7e-4e4d-afd5-d8a4bc2c9f29"
      },
      "execution_count": null,
      "outputs": [
        {
          "output_type": "display_data",
          "data": {
            "text/plain": [
              "<IPython.core.display.HTML object>"
            ],
            "text/html": [
              "\n",
              "     <input type=\"file\" id=\"files-3cf25888-74ca-4daf-885c-4d357a42ccfd\" name=\"files[]\" multiple disabled\n",
              "        style=\"border:none\" />\n",
              "     <output id=\"result-3cf25888-74ca-4daf-885c-4d357a42ccfd\">\n",
              "      Upload widget is only available when the cell has been executed in the\n",
              "      current browser session. Please rerun this cell to enable.\n",
              "      </output>\n",
              "      <script>// Copyright 2017 Google LLC\n",
              "//\n",
              "// Licensed under the Apache License, Version 2.0 (the \"License\");\n",
              "// you may not use this file except in compliance with the License.\n",
              "// You may obtain a copy of the License at\n",
              "//\n",
              "//      http://www.apache.org/licenses/LICENSE-2.0\n",
              "//\n",
              "// Unless required by applicable law or agreed to in writing, software\n",
              "// distributed under the License is distributed on an \"AS IS\" BASIS,\n",
              "// WITHOUT WARRANTIES OR CONDITIONS OF ANY KIND, either express or implied.\n",
              "// See the License for the specific language governing permissions and\n",
              "// limitations under the License.\n",
              "\n",
              "/**\n",
              " * @fileoverview Helpers for google.colab Python module.\n",
              " */\n",
              "(function(scope) {\n",
              "function span(text, styleAttributes = {}) {\n",
              "  const element = document.createElement('span');\n",
              "  element.textContent = text;\n",
              "  for (const key of Object.keys(styleAttributes)) {\n",
              "    element.style[key] = styleAttributes[key];\n",
              "  }\n",
              "  return element;\n",
              "}\n",
              "\n",
              "// Max number of bytes which will be uploaded at a time.\n",
              "const MAX_PAYLOAD_SIZE = 100 * 1024;\n",
              "\n",
              "function _uploadFiles(inputId, outputId) {\n",
              "  const steps = uploadFilesStep(inputId, outputId);\n",
              "  const outputElement = document.getElementById(outputId);\n",
              "  // Cache steps on the outputElement to make it available for the next call\n",
              "  // to uploadFilesContinue from Python.\n",
              "  outputElement.steps = steps;\n",
              "\n",
              "  return _uploadFilesContinue(outputId);\n",
              "}\n",
              "\n",
              "// This is roughly an async generator (not supported in the browser yet),\n",
              "// where there are multiple asynchronous steps and the Python side is going\n",
              "// to poll for completion of each step.\n",
              "// This uses a Promise to block the python side on completion of each step,\n",
              "// then passes the result of the previous step as the input to the next step.\n",
              "function _uploadFilesContinue(outputId) {\n",
              "  const outputElement = document.getElementById(outputId);\n",
              "  const steps = outputElement.steps;\n",
              "\n",
              "  const next = steps.next(outputElement.lastPromiseValue);\n",
              "  return Promise.resolve(next.value.promise).then((value) => {\n",
              "    // Cache the last promise value to make it available to the next\n",
              "    // step of the generator.\n",
              "    outputElement.lastPromiseValue = value;\n",
              "    return next.value.response;\n",
              "  });\n",
              "}\n",
              "\n",
              "/**\n",
              " * Generator function which is called between each async step of the upload\n",
              " * process.\n",
              " * @param {string} inputId Element ID of the input file picker element.\n",
              " * @param {string} outputId Element ID of the output display.\n",
              " * @return {!Iterable<!Object>} Iterable of next steps.\n",
              " */\n",
              "function* uploadFilesStep(inputId, outputId) {\n",
              "  const inputElement = document.getElementById(inputId);\n",
              "  inputElement.disabled = false;\n",
              "\n",
              "  const outputElement = document.getElementById(outputId);\n",
              "  outputElement.innerHTML = '';\n",
              "\n",
              "  const pickedPromise = new Promise((resolve) => {\n",
              "    inputElement.addEventListener('change', (e) => {\n",
              "      resolve(e.target.files);\n",
              "    });\n",
              "  });\n",
              "\n",
              "  const cancel = document.createElement('button');\n",
              "  inputElement.parentElement.appendChild(cancel);\n",
              "  cancel.textContent = 'Cancel upload';\n",
              "  const cancelPromise = new Promise((resolve) => {\n",
              "    cancel.onclick = () => {\n",
              "      resolve(null);\n",
              "    };\n",
              "  });\n",
              "\n",
              "  // Wait for the user to pick the files.\n",
              "  const files = yield {\n",
              "    promise: Promise.race([pickedPromise, cancelPromise]),\n",
              "    response: {\n",
              "      action: 'starting',\n",
              "    }\n",
              "  };\n",
              "\n",
              "  cancel.remove();\n",
              "\n",
              "  // Disable the input element since further picks are not allowed.\n",
              "  inputElement.disabled = true;\n",
              "\n",
              "  if (!files) {\n",
              "    return {\n",
              "      response: {\n",
              "        action: 'complete',\n",
              "      }\n",
              "    };\n",
              "  }\n",
              "\n",
              "  for (const file of files) {\n",
              "    const li = document.createElement('li');\n",
              "    li.append(span(file.name, {fontWeight: 'bold'}));\n",
              "    li.append(span(\n",
              "        `(${file.type || 'n/a'}) - ${file.size} bytes, ` +\n",
              "        `last modified: ${\n",
              "            file.lastModifiedDate ? file.lastModifiedDate.toLocaleDateString() :\n",
              "                                    'n/a'} - `));\n",
              "    const percent = span('0% done');\n",
              "    li.appendChild(percent);\n",
              "\n",
              "    outputElement.appendChild(li);\n",
              "\n",
              "    const fileDataPromise = new Promise((resolve) => {\n",
              "      const reader = new FileReader();\n",
              "      reader.onload = (e) => {\n",
              "        resolve(e.target.result);\n",
              "      };\n",
              "      reader.readAsArrayBuffer(file);\n",
              "    });\n",
              "    // Wait for the data to be ready.\n",
              "    let fileData = yield {\n",
              "      promise: fileDataPromise,\n",
              "      response: {\n",
              "        action: 'continue',\n",
              "      }\n",
              "    };\n",
              "\n",
              "    // Use a chunked sending to avoid message size limits. See b/62115660.\n",
              "    let position = 0;\n",
              "    do {\n",
              "      const length = Math.min(fileData.byteLength - position, MAX_PAYLOAD_SIZE);\n",
              "      const chunk = new Uint8Array(fileData, position, length);\n",
              "      position += length;\n",
              "\n",
              "      const base64 = btoa(String.fromCharCode.apply(null, chunk));\n",
              "      yield {\n",
              "        response: {\n",
              "          action: 'append',\n",
              "          file: file.name,\n",
              "          data: base64,\n",
              "        },\n",
              "      };\n",
              "\n",
              "      let percentDone = fileData.byteLength === 0 ?\n",
              "          100 :\n",
              "          Math.round((position / fileData.byteLength) * 100);\n",
              "      percent.textContent = `${percentDone}% done`;\n",
              "\n",
              "    } while (position < fileData.byteLength);\n",
              "  }\n",
              "\n",
              "  // All done.\n",
              "  yield {\n",
              "    response: {\n",
              "      action: 'complete',\n",
              "    }\n",
              "  };\n",
              "}\n",
              "\n",
              "scope.google = scope.google || {};\n",
              "scope.google.colab = scope.google.colab || {};\n",
              "scope.google.colab._files = {\n",
              "  _uploadFiles,\n",
              "  _uploadFilesContinue,\n",
              "};\n",
              "})(self);\n",
              "</script> "
            ]
          },
          "metadata": {}
        },
        {
          "output_type": "stream",
          "name": "stdout",
          "text": [
            "Saving titanic_dataset 18-07-25.xlsx to titanic_dataset 18-07-25.xlsx\n"
          ]
        }
      ]
    },
    {
      "cell_type": "markdown",
      "source": [
        "**Read the file into a DataFrame**"
      ],
      "metadata": {
        "id": "rekvng7oHfPx"
      }
    },
    {
      "cell_type": "code",
      "source": [
        "# Replace 'yourfile.csv' with the actual filename\n",
        "df = pd.read_csv('/content/titanic_dataset.csv')"
      ],
      "metadata": {
        "id": "mWsktDGOF540"
      },
      "execution_count": null,
      "outputs": []
    },
    {
      "cell_type": "code",
      "source": [
        "# Replace 'yourfile.xlsx' with your Excel file name\n",
        "df = pd.read_excel('/content/titanic_dataset.xlsx')"
      ],
      "metadata": {
        "id": "sKbLZUXEG05s"
      },
      "execution_count": null,
      "outputs": []
    },
    {
      "cell_type": "markdown",
      "source": [
        "**Load Excel/CSV from Google Drive in Colab**"
      ],
      "metadata": {
        "id": "uIXr2CxoUjb3"
      }
    },
    {
      "cell_type": "code",
      "source": [
        "from google.colab import drive\n",
        "drive.mount('/content/drive')"
      ],
      "metadata": {
        "colab": {
          "base_uri": "https://localhost:8080/"
        },
        "id": "BSD4NN7fUnM0",
        "outputId": "80ddea7f-3ebd-4971-fc5d-399e51724528"
      },
      "execution_count": 32,
      "outputs": [
        {
          "output_type": "stream",
          "name": "stdout",
          "text": [
            "Mounted at /content/drive\n"
          ]
        }
      ]
    },
    {
      "cell_type": "code",
      "source": [
        "drive_path= \"/content/drive/MyDrive/ML LAB CODES AND DATASETS/titanic_dataset 18-07-25.xlsx\""
      ],
      "metadata": {
        "id": "lV5AU9RcVNG3"
      },
      "execution_count": 38,
      "outputs": []
    },
    {
      "cell_type": "code",
      "source": [
        "# Load a specific sheet\n",
        "df = pd.read_excel(drive_path, sheet_name='EXP-1')  # replace 'Sheet1' with your actual sheet name"
      ],
      "metadata": {
        "id": "uDiIaMyOXVsM"
      },
      "execution_count": 39,
      "outputs": []
    },
    {
      "cell_type": "code",
      "source": [
        "xls = pd.ExcelFile(drive_path)\n",
        "print(xls.sheet_names)  # Lists all available sheets\n",
        "\n",
        "# Then load the one you want\n",
        "df = xls.parse('EXP-1')"
      ],
      "metadata": {
        "colab": {
          "base_uri": "https://localhost:8080/"
        },
        "id": "FaYQUwcpZrjT",
        "outputId": "b927bb50-b50a-481c-b8c2-d9ca3dbe7e7c"
      },
      "execution_count": 79,
      "outputs": [
        {
          "output_type": "stream",
          "name": "stdout",
          "text": [
            "['EXP-1']\n"
          ]
        }
      ]
    },
    {
      "cell_type": "code",
      "source": [
        "csv_path = '/content/drive/MyDrive/ML LAB CODES AND DATASETS/titanic_dataset from seaborn.csv'\n",
        "df_csv = pd.read_csv(csv_path)"
      ],
      "metadata": {
        "id": "yEsX5mn4fU_n"
      },
      "execution_count": 58,
      "outputs": []
    },
    {
      "cell_type": "markdown",
      "source": [
        "**Save CSV/Excel Back to Google Drive**"
      ],
      "metadata": {
        "id": "VKqdqNfehUFt"
      }
    },
    {
      "cell_type": "code",
      "source": [
        "save_path = '/content/drive/MyDrive/ML LAB CODES AND DATASETS/output.csv'\n",
        "df.to_csv(save_path, index=False)"
      ],
      "metadata": {
        "id": "43yTYm6kgK55"
      },
      "execution_count": 61,
      "outputs": []
    },
    {
      "cell_type": "code",
      "source": [
        "save_path = '/content/drive/MyDrive/ML LAB CODES AND DATASETS/output.xlsx'\n",
        "df.to_excel(save_path, index=False)"
      ],
      "metadata": {
        "id": "Imuyrvg6gzjW"
      },
      "execution_count": 62,
      "outputs": []
    },
    {
      "cell_type": "code",
      "source": [
        "import pandas as pd\n",
        "\n",
        "url = 'https://raw.githubusercontent.com/sanyasirao-surada/research_portal/refs/heads/main/titanic_dataset%20from%20seaborn.csv'\n",
        "df = pd.read_csv(url)"
      ],
      "metadata": {
        "id": "tTB8o6VXmsTh"
      },
      "execution_count": 83,
      "outputs": []
    },
    {
      "cell_type": "code",
      "source": [
        "# Step 2: Basic Data Exploration\n",
        "print(\"Dataset Overview:\\n\")\n",
        "print(df.head())\n",
        "print(\"\\nSummary Statistics:\\n\")\n",
        "print(df.describe(include='all'))\n",
        "print(\"\\nMissing Values:\\n\")\n",
        "print(df.isnull().sum())"
      ],
      "metadata": {
        "colab": {
          "base_uri": "https://localhost:8080/"
        },
        "id": "kFf3NOEqW-x1",
        "outputId": "71a6280b-9395-465d-fcdd-3bca80558aa3"
      },
      "execution_count": null,
      "outputs": [
        {
          "output_type": "stream",
          "name": "stdout",
          "text": [
            "Dataset Overview:\n",
            "\n",
            "   survived  pclass     sex   age  sibsp  parch     fare embarked  class  \\\n",
            "0         0       3    male  22.0      1      0   7.2500        S  Third   \n",
            "1         1       1  female  38.0      1      0  71.2833        C  First   \n",
            "2         1       3  female  26.0      0      0   7.9250        S  Third   \n",
            "3         1       1  female  35.0      1      0  53.1000        S  First   \n",
            "4         0       3    male  35.0      0      0   8.0500        S  Third   \n",
            "\n",
            "     who  adult_male deck  embark_town alive  alone  \n",
            "0    man        True  NaN  Southampton    no  False  \n",
            "1  woman       False    C    Cherbourg   yes  False  \n",
            "2  woman       False  NaN  Southampton   yes   True  \n",
            "3  woman       False    C  Southampton   yes  False  \n",
            "4    man        True  NaN  Southampton    no   True  \n",
            "\n",
            "Summary Statistics:\n",
            "\n",
            "          survived      pclass   sex         age       sibsp       parch  \\\n",
            "count   891.000000  891.000000   891  714.000000  891.000000  891.000000   \n",
            "unique         NaN         NaN     2         NaN         NaN         NaN   \n",
            "top            NaN         NaN  male         NaN         NaN         NaN   \n",
            "freq           NaN         NaN   577         NaN         NaN         NaN   \n",
            "mean      0.383838    2.308642   NaN   29.699118    0.523008    0.381594   \n",
            "std       0.486592    0.836071   NaN   14.526497    1.102743    0.806057   \n",
            "min       0.000000    1.000000   NaN    0.420000    0.000000    0.000000   \n",
            "25%       0.000000    2.000000   NaN   20.125000    0.000000    0.000000   \n",
            "50%       0.000000    3.000000   NaN   28.000000    0.000000    0.000000   \n",
            "75%       1.000000    3.000000   NaN   38.000000    1.000000    0.000000   \n",
            "max       1.000000    3.000000   NaN   80.000000    8.000000    6.000000   \n",
            "\n",
            "              fare embarked  class  who adult_male deck  embark_town alive  \\\n",
            "count   891.000000      889    891  891        891  203          889   891   \n",
            "unique         NaN        3      3    3          2    7            3     2   \n",
            "top            NaN        S  Third  man       True    C  Southampton    no   \n",
            "freq           NaN      644    491  537        537   59          644   549   \n",
            "mean     32.204208      NaN    NaN  NaN        NaN  NaN          NaN   NaN   \n",
            "std      49.693429      NaN    NaN  NaN        NaN  NaN          NaN   NaN   \n",
            "min       0.000000      NaN    NaN  NaN        NaN  NaN          NaN   NaN   \n",
            "25%       7.910400      NaN    NaN  NaN        NaN  NaN          NaN   NaN   \n",
            "50%      14.454200      NaN    NaN  NaN        NaN  NaN          NaN   NaN   \n",
            "75%      31.000000      NaN    NaN  NaN        NaN  NaN          NaN   NaN   \n",
            "max     512.329200      NaN    NaN  NaN        NaN  NaN          NaN   NaN   \n",
            "\n",
            "       alone  \n",
            "count    891  \n",
            "unique     2  \n",
            "top     True  \n",
            "freq     537  \n",
            "mean     NaN  \n",
            "std      NaN  \n",
            "min      NaN  \n",
            "25%      NaN  \n",
            "50%      NaN  \n",
            "75%      NaN  \n",
            "max      NaN  \n",
            "\n",
            "Missing Values:\n",
            "\n",
            "survived         0\n",
            "pclass           0\n",
            "sex              0\n",
            "age            177\n",
            "sibsp            0\n",
            "parch            0\n",
            "fare             0\n",
            "embarked         2\n",
            "class            0\n",
            "who              0\n",
            "adult_male       0\n",
            "deck           688\n",
            "embark_town      2\n",
            "alive            0\n",
            "alone            0\n",
            "dtype: int64\n"
          ]
        }
      ]
    },
    {
      "cell_type": "code",
      "source": [
        "# Step 3: Data Preparation Activities\n",
        "\n",
        "# 3a. Filtering passengers who survived\n",
        "print(\"\\n📌 Filtering passengers who survived:\")\n",
        "survived = df[df['survived'] == 1]\n",
        "print(survived[['sex', 'age', 'pclass', 'survived']].head())"
      ],
      "metadata": {
        "colab": {
          "base_uri": "https://localhost:8080/"
        },
        "id": "0OB0Pp03bIQu",
        "outputId": "66667892-e06f-4a37-e04e-022dd93c4668"
      },
      "execution_count": null,
      "outputs": [
        {
          "output_type": "stream",
          "name": "stdout",
          "text": [
            "\n",
            "📌 Filtering passengers who survived:\n",
            "      sex   age  pclass  survived\n",
            "1  female  38.0       1         1\n",
            "2  female  26.0       3         1\n",
            "3  female  35.0       1         1\n",
            "8  female  27.0       3         1\n",
            "9  female  14.0       2         1\n"
          ]
        }
      ]
    },
    {
      "cell_type": "code",
      "source": [
        "# 3b. Grouping by 'sex' and 'pclass' to count survivors\n",
        "print(\"\\n📌 Grouping by 'sex' and 'pclass' to count survivors:\")\n",
        "grouped = df.groupby(['sex', 'pclass'])['survived'].sum()\n",
        "print(grouped)"
      ],
      "metadata": {
        "colab": {
          "base_uri": "https://localhost:8080/"
        },
        "id": "ElERihXcbQRo",
        "outputId": "e28e194c-3308-4cd1-cbed-e8a10432d3c5"
      },
      "execution_count": null,
      "outputs": [
        {
          "output_type": "stream",
          "name": "stdout",
          "text": [
            "\n",
            "📌 Grouping by 'sex' and 'pclass' to count survivors:\n",
            "sex     pclass\n",
            "female  1         91\n",
            "        2         70\n",
            "        3         72\n",
            "male    1         45\n",
            "        2         17\n",
            "        3         47\n",
            "Name: survived, dtype: int64\n"
          ]
        }
      ]
    },
    {
      "cell_type": "code",
      "source": [
        "# 3c. Sorting passengers by age (using 'who' instead of 'name')\n",
        "print(\"\\n📌 Sorting passengers by age:\")\n",
        "sorted_df = df.sort_values(by='age')\n",
        "print(sorted_df[['who', 'age', 'sex']].head())"
      ],
      "metadata": {
        "colab": {
          "base_uri": "https://localhost:8080/"
        },
        "id": "_cQJbs9_bmUs",
        "outputId": "aa9d37ef-5333-4145-d534-66d5ed40ffd9"
      },
      "execution_count": null,
      "outputs": [
        {
          "output_type": "stream",
          "name": "stdout",
          "text": [
            "\n",
            "📌 Sorting passengers by age:\n",
            "       who   age     sex\n",
            "803  child  0.42    male\n",
            "755  child  0.67    male\n",
            "644  child  0.75  female\n",
            "469  child  0.75  female\n",
            "78   child  0.83    male\n"
          ]
        }
      ]
    },
    {
      "cell_type": "code",
      "source": [
        "# Step 4: Data Visualization\n",
        "plt.figure(figsize=(15, 10))"
      ],
      "metadata": {
        "colab": {
          "base_uri": "https://localhost:8080/",
          "height": 53
        },
        "id": "vjut3-Phbxpv",
        "outputId": "10847f24-f865-4297-c6cf-ae9465740540"
      },
      "execution_count": null,
      "outputs": [
        {
          "output_type": "execute_result",
          "data": {
            "text/plain": [
              "<Figure size 1500x1000 with 0 Axes>"
            ]
          },
          "metadata": {},
          "execution_count": 9
        },
        {
          "output_type": "display_data",
          "data": {
            "text/plain": [
              "<Figure size 1500x1000 with 0 Axes>"
            ]
          },
          "metadata": {}
        }
      ]
    },
    {
      "cell_type": "code",
      "source": [
        "# 4a. Bar Plot: Count of survivors by sex\n",
        "plt.subplot(2, 3, 1)\n",
        "sns.countplot(x='sex', hue='survived', data=df)\n",
        "plt.title(\"Survival Count by Gender\")"
      ],
      "metadata": {
        "colab": {
          "base_uri": "https://localhost:8080/",
          "height": 288
        },
        "id": "7Xj7ITJub2u5",
        "outputId": "1cffdfd7-3a1a-4d24-c9a0-aafe2a9a2b23"
      },
      "execution_count": null,
      "outputs": [
        {
          "output_type": "execute_result",
          "data": {
            "text/plain": [
              "Text(0.5, 1.0, 'Survival Count by Gender')"
            ]
          },
          "metadata": {},
          "execution_count": 10
        },
        {
          "output_type": "display_data",
          "data": {
            "text/plain": [
              "<Figure size 640x480 with 1 Axes>"
            ],
            "image/png": "[encoded data removed]"
          },
          "metadata": {}
        }
      ]
    },
    {
      "cell_type": "code",
      "source": [
        "# 4b. Histogram: Age distribution\n",
        "plt.subplot(2, 3, 2)\n",
        "df['age'].dropna().hist(bins=20, edgecolor='black')\n",
        "plt.title(\"Age Distribution\")"
      ],
      "metadata": {
        "colab": {
          "base_uri": "https://localhost:8080/",
          "height": 269
        },
        "id": "KVdPf2kCcDEF",
        "outputId": "35ae0cde-d4b1-4c59-b868-4633244452a9"
      },
      "execution_count": null,
      "outputs": [
        {
          "output_type": "execute_result",
          "data": {
            "text/plain": [
              "Text(0.5, 1.0, 'Age Distribution')"
            ]
          },
          "metadata": {},
          "execution_count": 11
        },
        {
          "output_type": "display_data",
          "data": {
            "text/plain": [
              "<Figure size 640x480 with 1 Axes>"
            ],
            "image/png": "[encoded data removed]"
          },
          "metadata": {}
        }
      ]
    },
    {
      "cell_type": "code",
      "source": [
        "# 4c. Distribution Plot: Fare\n",
        "plt.subplot(2, 3, 3)\n",
        "sns.histplot(df['fare'], kde=True)\n",
        "plt.title(\"Fare Distribution with KDE\")"
      ],
      "metadata": {
        "colab": {
          "base_uri": "https://localhost:8080/",
          "height": 288
        },
        "id": "BaSzthTWcKIB",
        "outputId": "1abed105-5889-4009-eccf-74ce5a1a131c"
      },
      "execution_count": null,
      "outputs": [
        {
          "output_type": "execute_result",
          "data": {
            "text/plain": [
              "Text(0.5, 1.0, 'Fare Distribution with KDE')"
            ]
          },
          "metadata": {},
          "execution_count": 12
        },
        {
          "output_type": "display_data",
          "data": {
            "text/plain": [
              "<Figure size 640x480 with 1 Axes>"
            ],
            "image/png": "[encoded data removed]"
          },
          "metadata": {}
        }
      ]
    },
    {
      "cell_type": "code",
      "source": [
        "# 4d. Box Plot: Age vs Class\n",
        "plt.subplot(2, 3, 4)\n",
        "sns.boxplot(x='pclass', y='age', data=df)\n",
        "plt.title(\"Box Plot of Age by Class\")"
      ],
      "metadata": {
        "colab": {
          "base_uri": "https://localhost:8080/",
          "height": 288
        },
        "id": "ExQCOWS1cPzq",
        "outputId": "f52236fd-7853-41d6-e057-cecd54f24d09"
      },
      "execution_count": null,
      "outputs": [
        {
          "output_type": "execute_result",
          "data": {
            "text/plain": [
              "Text(0.5, 1.0, 'Box Plot of Age by Class')"
            ]
          },
          "metadata": {},
          "execution_count": 13
        },
        {
          "output_type": "display_data",
          "data": {
            "text/plain": [
              "<Figure size 640x480 with 1 Axes>"
            ],
            "image/png": "[encoded data removed]"
          },
          "metadata": {}
        }
      ]
    },
    {
      "cell_type": "code",
      "source": [
        "# 4e. Scatter Plot: Age vs Fare (colored by survival)\n",
        "plt.subplot(2, 3, 5)\n",
        "sns.scatterplot(x='age', y='fare', hue='survived', data=df)\n",
        "plt.title(\"Age vs Fare (Survival)\")"
      ],
      "metadata": {
        "id": "I9Uzd55kcXO4",
        "outputId": "5da08f6c-46b4-4c7f-f525-68d01ec24949",
        "colab": {
          "base_uri": "https://localhost:8080/",
          "height": 288
        }
      },
      "execution_count": null,
      "outputs": [
        {
          "output_type": "execute_result",
          "data": {
            "text/plain": [
              "Text(0.5, 1.0, 'Age vs Fare (Survival)')"
            ]
          },
          "metadata": {},
          "execution_count": 14
        },
        {
          "output_type": "display_data",
          "data": {
            "text/plain": [
              "<Figure size 640x480 with 1 Axes>"
            ],
            "image/png": "[encoded data removed]"
          },
          "metadata": {}
        }
      ]
    },
    {
      "cell_type": "code",
      "source": [
        "plt.tight_layout()\n",
        "plt.show()"
      ],
      "metadata": {
        "id": "YDRDSQsuccQz",
        "outputId": "876728c0-a554-4fd3-8b00-4f36288a4dcd",
        "colab": {
          "base_uri": "https://localhost:8080/",
          "height": 35
        }
      },
      "execution_count": null,
      "outputs": [
        {
          "output_type": "display_data",
          "data": {
            "text/plain": [
              "<Figure size 640x480 with 0 Axes>"
            ]
          },
          "metadata": {}
        }
      ]
    }
  ]
}