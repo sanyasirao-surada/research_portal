{
  "nbformat": 4,
  "nbformat_minor": 0,
  "metadata": {
    "colab": {
      "provenance": [],
      "authorship_tag": "ABX9TyMhV0+sCJh6dYkvW3uDtRZS",
      "include_colab_link": true
    },
    "kernelspec": {
      "name": "python3",
      "display_name": "Python 3"
    },
    "language_info": {
      "name": "python"
    }
  },
  "cells": [
    {
      "cell_type": "markdown",
      "metadata": {
        "id": "view-in-github",
        "colab_type": "text"
      },
      "source": [
        "<a href=\"https://colab.research.google.com/github/sanyasirao-surada/research_portal/blob/main/ML_ICE.ipynb\" target=\"_parent\"><img src=\"https://colab.research.google.com/assets/colab-badge.svg\" alt=\"Open In Colab\"/></a>"
      ]
    },
    {
      "cell_type": "code",
      "execution_count": 4,
      "metadata": {
        "colab": {
          "base_uri": "https://localhost:8080/"
        },
        "id": "69YhGljhLTLK",
        "outputId": "5d05c868-3f70-4e30-d48b-de3c468a6975"
      },
      "outputs": [
        {
          "output_type": "stream",
          "name": "stdout",
          "text": [
            "Result: 60\n"
          ]
        }
      ],
      "source": [
        "# prompt: SIMPLE CALCULATOR\n",
        "\n",
        "num1 = 20 #@param {type:\"number\"}\n",
        "num2 = 40 #@param {type:\"number\"}\n",
        "operation = \"add\" #@param [\"add\", \"subtract\", \"multiply\", \"divide\"]\n",
        "if operation == \"add\":\n",
        "  result = num1 + num2\n",
        "elif operation == \"subtract\":\n",
        "  result = num1 - num2\n",
        "elif operation == \"multiply\":\n",
        "  result = num1 * num2\n",
        "elif operation == \"divide\":\n",
        "  if num2 != 0:\n",
        "    result = num1 / num2\n",
        "  else:\n",
        "    result = \"Error: Division by zero\"\n",
        "print(f\"Result: {result}\")"
      ]
    }
  ]
}